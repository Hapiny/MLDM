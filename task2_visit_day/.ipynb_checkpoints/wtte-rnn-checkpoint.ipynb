{
 "cells": [
  {
   "cell_type": "code",
   "execution_count": 1,
   "metadata": {},
   "outputs": [],
   "source": [
    "import pandas as pd\n",
    "import numpy as np\n",
    "import torch\n",
    "import matplotlib.pyplot as plt\n",
    "%matplotlib inline"
   ]
  },
  {
   "cell_type": "code",
   "execution_count": 284,
   "metadata": {},
   "outputs": [],
   "source": [
    "df['weekday'] = df.datetime.apply(lambda x: x.weekday())\n",
    "df['hour'] = df.datetime.apply(lambda x: x.hour)"
   ]
  },
  {
   "cell_type": "code",
   "execution_count": 157,
   "metadata": {},
   "outputs": [],
   "source": [
    "for m in [5, 10, 30, 60, 120, 300]:\n",
    "    df['mean_{}'.format(m)] = df.num_orders.rolling(m).mean()"
   ]
  },
  {
   "cell_type": "code",
   "execution_count": 158,
   "metadata": {},
   "outputs": [],
   "source": [
    "df.dropna(inplace=True)"
   ]
  },
  {
   "cell_type": "code",
   "execution_count": 159,
   "metadata": {},
   "outputs": [
    {
     "data": {
      "text/html": [
       "<div>\n",
       "<style scoped>\n",
       "    .dataframe tbody tr th:only-of-type {\n",
       "        vertical-align: middle;\n",
       "    }\n",
       "\n",
       "    .dataframe tbody tr th {\n",
       "        vertical-align: top;\n",
       "    }\n",
       "\n",
       "    .dataframe thead th {\n",
       "        text-align: right;\n",
       "    }\n",
       "</style>\n",
       "<table border=\"1\" class=\"dataframe\">\n",
       "  <thead>\n",
       "    <tr style=\"text-align: right;\">\n",
       "      <th></th>\n",
       "      <th>datetime</th>\n",
       "      <th>num_orders</th>\n",
       "      <th>mean_5</th>\n",
       "      <th>mean_10</th>\n",
       "      <th>mean_30</th>\n",
       "      <th>mean_60</th>\n",
       "      <th>mean_120</th>\n",
       "      <th>mean_300</th>\n",
       "    </tr>\n",
       "  </thead>\n",
       "  <tbody>\n",
       "    <tr>\n",
       "      <th>299</th>\n",
       "      <td>2018-03-01 04:59:00</td>\n",
       "      <td>0</td>\n",
       "      <td>0.2</td>\n",
       "      <td>0.3</td>\n",
       "      <td>0.266667</td>\n",
       "      <td>0.716667</td>\n",
       "      <td>0.908333</td>\n",
       "      <td>1.296667</td>\n",
       "    </tr>\n",
       "    <tr>\n",
       "      <th>300</th>\n",
       "      <td>2018-03-01 05:00:00</td>\n",
       "      <td>1</td>\n",
       "      <td>0.4</td>\n",
       "      <td>0.4</td>\n",
       "      <td>0.300000</td>\n",
       "      <td>0.716667</td>\n",
       "      <td>0.916667</td>\n",
       "      <td>1.300000</td>\n",
       "    </tr>\n",
       "    <tr>\n",
       "      <th>301</th>\n",
       "      <td>2018-03-01 05:01:00</td>\n",
       "      <td>0</td>\n",
       "      <td>0.4</td>\n",
       "      <td>0.4</td>\n",
       "      <td>0.300000</td>\n",
       "      <td>0.700000</td>\n",
       "      <td>0.908333</td>\n",
       "      <td>1.300000</td>\n",
       "    </tr>\n",
       "    <tr>\n",
       "      <th>302</th>\n",
       "      <td>2018-03-01 05:02:00</td>\n",
       "      <td>0</td>\n",
       "      <td>0.4</td>\n",
       "      <td>0.4</td>\n",
       "      <td>0.300000</td>\n",
       "      <td>0.650000</td>\n",
       "      <td>0.900000</td>\n",
       "      <td>1.300000</td>\n",
       "    </tr>\n",
       "    <tr>\n",
       "      <th>303</th>\n",
       "      <td>2018-03-01 05:03:00</td>\n",
       "      <td>0</td>\n",
       "      <td>0.2</td>\n",
       "      <td>0.2</td>\n",
       "      <td>0.300000</td>\n",
       "      <td>0.600000</td>\n",
       "      <td>0.900000</td>\n",
       "      <td>1.300000</td>\n",
       "    </tr>\n",
       "  </tbody>\n",
       "</table>\n",
       "</div>"
      ],
      "text/plain": [
       "                datetime  num_orders  mean_5  mean_10   mean_30   mean_60  \\\n",
       "299  2018-03-01 04:59:00           0     0.2      0.3  0.266667  0.716667   \n",
       "300  2018-03-01 05:00:00           1     0.4      0.4  0.300000  0.716667   \n",
       "301  2018-03-01 05:01:00           0     0.4      0.4  0.300000  0.700000   \n",
       "302  2018-03-01 05:02:00           0     0.4      0.4  0.300000  0.650000   \n",
       "303  2018-03-01 05:03:00           0     0.2      0.2  0.300000  0.600000   \n",
       "\n",
       "     mean_120  mean_300  \n",
       "299  0.908333  1.296667  \n",
       "300  0.916667  1.300000  \n",
       "301  0.908333  1.300000  \n",
       "302  0.900000  1.300000  \n",
       "303  0.900000  1.300000  "
      ]
     },
     "execution_count": 159,
     "metadata": {},
     "output_type": "execute_result"
    }
   ],
   "source": [
    "df.head()"
   ]
  },
  {
   "cell_type": "code",
   "execution_count": 161,
   "metadata": {},
   "outputs": [
    {
     "data": {
      "text/html": [
       "<div>\n",
       "<style scoped>\n",
       "    .dataframe tbody tr th:only-of-type {\n",
       "        vertical-align: middle;\n",
       "    }\n",
       "\n",
       "    .dataframe tbody tr th {\n",
       "        vertical-align: top;\n",
       "    }\n",
       "\n",
       "    .dataframe thead th {\n",
       "        text-align: right;\n",
       "    }\n",
       "</style>\n",
       "<table border=\"1\" class=\"dataframe\">\n",
       "  <thead>\n",
       "    <tr style=\"text-align: right;\">\n",
       "      <th></th>\n",
       "      <th>datetime</th>\n",
       "      <th>num_orders</th>\n",
       "      <th>mean_5</th>\n",
       "      <th>mean_10</th>\n",
       "      <th>mean_30</th>\n",
       "      <th>mean_60</th>\n",
       "      <th>mean_120</th>\n",
       "      <th>mean_300</th>\n",
       "    </tr>\n",
       "  </thead>\n",
       "  <tbody>\n",
       "    <tr>\n",
       "      <th>299</th>\n",
       "      <td>2018-03-01 04:59:00</td>\n",
       "      <td>0</td>\n",
       "      <td>0.2</td>\n",
       "      <td>0.3</td>\n",
       "      <td>0.266667</td>\n",
       "      <td>0.716667</td>\n",
       "      <td>0.908333</td>\n",
       "      <td>1.296667</td>\n",
       "    </tr>\n",
       "    <tr>\n",
       "      <th>300</th>\n",
       "      <td>2018-03-01 05:00:00</td>\n",
       "      <td>1</td>\n",
       "      <td>0.4</td>\n",
       "      <td>0.4</td>\n",
       "      <td>0.300000</td>\n",
       "      <td>0.716667</td>\n",
       "      <td>0.916667</td>\n",
       "      <td>1.300000</td>\n",
       "    </tr>\n",
       "    <tr>\n",
       "      <th>301</th>\n",
       "      <td>2018-03-01 05:01:00</td>\n",
       "      <td>0</td>\n",
       "      <td>0.4</td>\n",
       "      <td>0.4</td>\n",
       "      <td>0.300000</td>\n",
       "      <td>0.700000</td>\n",
       "      <td>0.908333</td>\n",
       "      <td>1.300000</td>\n",
       "    </tr>\n",
       "    <tr>\n",
       "      <th>302</th>\n",
       "      <td>2018-03-01 05:02:00</td>\n",
       "      <td>0</td>\n",
       "      <td>0.4</td>\n",
       "      <td>0.4</td>\n",
       "      <td>0.300000</td>\n",
       "      <td>0.650000</td>\n",
       "      <td>0.900000</td>\n",
       "      <td>1.300000</td>\n",
       "    </tr>\n",
       "    <tr>\n",
       "      <th>303</th>\n",
       "      <td>2018-03-01 05:03:00</td>\n",
       "      <td>0</td>\n",
       "      <td>0.2</td>\n",
       "      <td>0.2</td>\n",
       "      <td>0.300000</td>\n",
       "      <td>0.600000</td>\n",
       "      <td>0.900000</td>\n",
       "      <td>1.300000</td>\n",
       "    </tr>\n",
       "  </tbody>\n",
       "</table>\n",
       "</div>"
      ],
      "text/plain": [
       "                datetime  num_orders  mean_5  mean_10   mean_30   mean_60  \\\n",
       "299  2018-03-01 04:59:00           0     0.2      0.3  0.266667  0.716667   \n",
       "300  2018-03-01 05:00:00           1     0.4      0.4  0.300000  0.716667   \n",
       "301  2018-03-01 05:01:00           0     0.4      0.4  0.300000  0.700000   \n",
       "302  2018-03-01 05:02:00           0     0.4      0.4  0.300000  0.650000   \n",
       "303  2018-03-01 05:03:00           0     0.2      0.2  0.300000  0.600000   \n",
       "\n",
       "     mean_120  mean_300  \n",
       "299  0.908333  1.296667  \n",
       "300  0.916667  1.300000  \n",
       "301  0.908333  1.300000  \n",
       "302  0.900000  1.300000  \n",
       "303  0.900000  1.300000  "
      ]
     },
     "execution_count": 161,
     "metadata": {},
     "output_type": "execute_result"
    }
   ],
   "source": [
    "df.head()"
   ]
  },
  {
   "cell_type": "code",
   "execution_count": null,
   "metadata": {},
   "outputs": [],
   "source": []
  },
  {
   "cell_type": "code",
   "execution_count": null,
   "metadata": {},
   "outputs": [],
   "source": []
  },
  {
   "cell_type": "code",
   "execution_count": null,
   "metadata": {},
   "outputs": [],
   "source": []
  },
  {
   "cell_type": "code",
   "execution_count": 5,
   "metadata": {},
   "outputs": [],
   "source": [
    "import datetime"
   ]
  },
  {
   "cell_type": "code",
   "execution_count": 6,
   "metadata": {},
   "outputs": [
    {
     "data": {
      "text/html": [
       "<div>\n",
       "<style scoped>\n",
       "    .dataframe tbody tr th:only-of-type {\n",
       "        vertical-align: middle;\n",
       "    }\n",
       "\n",
       "    .dataframe tbody tr th {\n",
       "        vertical-align: top;\n",
       "    }\n",
       "\n",
       "    .dataframe thead th {\n",
       "        text-align: right;\n",
       "    }\n",
       "</style>\n",
       "<table border=\"1\" class=\"dataframe\">\n",
       "  <thead>\n",
       "    <tr style=\"text-align: right;\">\n",
       "      <th></th>\n",
       "      <th>datetime</th>\n",
       "      <th>num_orders</th>\n",
       "    </tr>\n",
       "  </thead>\n",
       "  <tbody>\n",
       "    <tr>\n",
       "      <th>0</th>\n",
       "      <td>2018-03-01 00:00:00</td>\n",
       "      <td>0</td>\n",
       "    </tr>\n",
       "    <tr>\n",
       "      <th>1</th>\n",
       "      <td>2018-03-01 00:01:00</td>\n",
       "      <td>0</td>\n",
       "    </tr>\n",
       "    <tr>\n",
       "      <th>2</th>\n",
       "      <td>2018-03-01 00:02:00</td>\n",
       "      <td>0</td>\n",
       "    </tr>\n",
       "    <tr>\n",
       "      <th>3</th>\n",
       "      <td>2018-03-01 00:03:00</td>\n",
       "      <td>0</td>\n",
       "    </tr>\n",
       "    <tr>\n",
       "      <th>4</th>\n",
       "      <td>2018-03-01 00:04:00</td>\n",
       "      <td>1</td>\n",
       "    </tr>\n",
       "  </tbody>\n",
       "</table>\n",
       "</div>"
      ],
      "text/plain": [
       "             datetime  num_orders\n",
       "0 2018-03-01 00:00:00           0\n",
       "1 2018-03-01 00:01:00           0\n",
       "2 2018-03-01 00:02:00           0\n",
       "3 2018-03-01 00:03:00           0\n",
       "4 2018-03-01 00:04:00           1"
      ]
     },
     "execution_count": 6,
     "metadata": {},
     "output_type": "execute_result"
    }
   ],
   "source": [
    "data = pd.read_csv('data/train/set1.csv')\n",
    "data.datetime = data.datetime.apply(\n",
    "    lambda x: datetime.datetime.strptime(x, '%Y-%m-%d %H:%M:%S'))\n",
    "data = data.sort_values('datetime')\n",
    "data.head()"
   ]
  },
  {
   "cell_type": "code",
   "execution_count": 7,
   "metadata": {},
   "outputs": [],
   "source": [
    "target_positions = {\n",
    "    'set1': [10, 30, 45, 60, 75],\n",
    "    'set2': [5, 10, 15, 20, 25],\n",
    "    'set3': [5, 7, 9, 11, 13]\n",
    "}['set1']"
   ]
  },
  {
   "cell_type": "code",
   "execution_count": 8,
   "metadata": {},
   "outputs": [],
   "source": [
    "HOUR_IN_MINUTES = 60\n",
    "DAY_IN_MINUTES = 24 * HOUR_IN_MINUTES\n",
    "WEEK_IN_MINUTES = 7 * DAY_IN_MINUTES\n",
    "\n",
    "MAX_TIME = DAY_IN_MINUTES"
   ]
  },
  {
   "cell_type": "code",
   "execution_count": 9,
   "metadata": {},
   "outputs": [],
   "source": [
    "samples = {\n",
    "    'datetime': [],\n",
    "    'history': []}\n",
    "\n",
    "for position in target_positions:\n",
    "    samples['target_{}'.format(position)] = []\n",
    "    \n",
    "num_orders = data.num_orders.values"
   ]
  },
  {
   "cell_type": "code",
   "execution_count": 10,
   "metadata": {},
   "outputs": [],
   "source": [
    "# start after 2 weeks because of history\n",
    "# finish earlier because of target calculation\n",
    "for i in range(2 * WEEK_IN_MINUTES,\n",
    "               len(num_orders) - 2 * DAY_IN_MINUTES):\n",
    "    \n",
    "    samples['datetime'].append(data.datetime[i])\n",
    "    samples['history'].append(num_orders[i-2*WEEK_IN_MINUTES:i])\n",
    "    \n",
    "    # cumsum not for all array because of time economy\n",
    "    cumsum_num_orders = num_orders[i+1:i+1+2*DAY_IN_MINUTES].cumsum()\n",
    "    for position in target_positions:\n",
    "        orders_by_positions = np.where(cumsum_num_orders >= position)[0]\n",
    "        if len(orders_by_positions):\n",
    "            time = orders_by_positions[0] + 1\n",
    "        else:\n",
    "            # if no orders in last days\n",
    "            time = MAX_TIME\n",
    "        samples['target_{}'.format(position)].append(time)"
   ]
  },
  {
   "cell_type": "code",
   "execution_count": 11,
   "metadata": {
    "scrolled": false
   },
   "outputs": [
    {
     "data": {
      "text/html": [
       "<div>\n",
       "<style scoped>\n",
       "    .dataframe tbody tr th:only-of-type {\n",
       "        vertical-align: middle;\n",
       "    }\n",
       "\n",
       "    .dataframe tbody tr th {\n",
       "        vertical-align: top;\n",
       "    }\n",
       "\n",
       "    .dataframe thead th {\n",
       "        text-align: right;\n",
       "    }\n",
       "</style>\n",
       "<table border=\"1\" class=\"dataframe\">\n",
       "  <thead>\n",
       "    <tr style=\"text-align: right;\">\n",
       "      <th></th>\n",
       "      <th>datetime</th>\n",
       "      <th>history</th>\n",
       "      <th>target_10</th>\n",
       "      <th>target_30</th>\n",
       "      <th>target_45</th>\n",
       "      <th>target_60</th>\n",
       "      <th>target_75</th>\n",
       "    </tr>\n",
       "  </thead>\n",
       "  <tbody>\n",
       "    <tr>\n",
       "      <th>0</th>\n",
       "      <td>2018-03-15 00:00:00</td>\n",
       "      <td>[0, 0, 0, 0, 1, 2, 0, 1, 1, 4, 0, 1, 1, 1, 1, ...</td>\n",
       "      <td>5</td>\n",
       "      <td>18</td>\n",
       "      <td>28</td>\n",
       "      <td>32</td>\n",
       "      <td>42</td>\n",
       "    </tr>\n",
       "    <tr>\n",
       "      <th>1</th>\n",
       "      <td>2018-03-15 00:01:00</td>\n",
       "      <td>[0, 0, 0, 1, 2, 0, 1, 1, 4, 0, 1, 1, 1, 1, 3, ...</td>\n",
       "      <td>5</td>\n",
       "      <td>19</td>\n",
       "      <td>27</td>\n",
       "      <td>32</td>\n",
       "      <td>42</td>\n",
       "    </tr>\n",
       "    <tr>\n",
       "      <th>2</th>\n",
       "      <td>2018-03-15 00:02:00</td>\n",
       "      <td>[0, 0, 1, 2, 0, 1, 1, 4, 0, 1, 1, 1, 1, 3, 2, ...</td>\n",
       "      <td>7</td>\n",
       "      <td>20</td>\n",
       "      <td>27</td>\n",
       "      <td>33</td>\n",
       "      <td>43</td>\n",
       "    </tr>\n",
       "    <tr>\n",
       "      <th>3</th>\n",
       "      <td>2018-03-15 00:03:00</td>\n",
       "      <td>[0, 1, 2, 0, 1, 1, 4, 0, 1, 1, 1, 1, 3, 2, 3, ...</td>\n",
       "      <td>7</td>\n",
       "      <td>21</td>\n",
       "      <td>26</td>\n",
       "      <td>35</td>\n",
       "      <td>42</td>\n",
       "    </tr>\n",
       "  </tbody>\n",
       "</table>\n",
       "</div>"
      ],
      "text/plain": [
       "             datetime                                            history  \\\n",
       "0 2018-03-15 00:00:00  [0, 0, 0, 0, 1, 2, 0, 1, 1, 4, 0, 1, 1, 1, 1, ...   \n",
       "1 2018-03-15 00:01:00  [0, 0, 0, 1, 2, 0, 1, 1, 4, 0, 1, 1, 1, 1, 3, ...   \n",
       "2 2018-03-15 00:02:00  [0, 0, 1, 2, 0, 1, 1, 4, 0, 1, 1, 1, 1, 3, 2, ...   \n",
       "3 2018-03-15 00:03:00  [0, 1, 2, 0, 1, 1, 4, 0, 1, 1, 1, 1, 3, 2, 3, ...   \n",
       "\n",
       "   target_10  target_30  target_45  target_60  target_75  \n",
       "0          5         18         28         32         42  \n",
       "1          5         19         27         32         42  \n",
       "2          7         20         27         33         43  \n",
       "3          7         21         26         35         42  "
      ]
     },
     "execution_count": 11,
     "metadata": {},
     "output_type": "execute_result"
    }
   ],
   "source": [
    "df = pd.DataFrame.from_dict(samples)\n",
    "df.head(4)"
   ]
  },
  {
   "cell_type": "code",
   "execution_count": 354,
   "metadata": {},
   "outputs": [],
   "source": [
    "value_cols = []\n",
    "\n",
    "for m in [5,10,20,30,60,90,120,150,180,240,300]:\n",
    "# for m in [5,10,20,30,60]:\n",
    "    col_name = 'mean_{}'.format(m)\n",
    "    df[col_name] = df.history.apply(lambda x: x[-m:].mean())\n",
    "    df[col_name+'-1'] = df.history.apply(lambda x: x[-2*m:-m].mean())\n",
    "    df[col_name+'-2'] = df.history.apply(lambda x: x[-3*m:-2*m].mean())\n",
    "    df[col_name+'diff1'] = df[col_name] - df[col_name+'-1']\n",
    "    df[col_name+'diff2'] = df[col_name+'-1'] - df[col_name+'-2']\n",
    "    \n",
    "value_cols.extend([x for x in df.columns if 'mean_' in x or 'diff' in x])"
   ]
  },
  {
   "cell_type": "code",
   "execution_count": 355,
   "metadata": {},
   "outputs": [],
   "source": [
    "for hour in range(24):\n",
    "    df['hour_is_{}'.format(i)] = df.datetime.apply(lambda x: 1 if x.hour == i else 0)\n",
    "value_cols.extend([x for x in df.columns if 'hour_is' in x])"
   ]
  },
  {
   "cell_type": "code",
   "execution_count": 356,
   "metadata": {},
   "outputs": [
    {
     "data": {
      "text/html": [
       "<div>\n",
       "<style scoped>\n",
       "    .dataframe tbody tr th:only-of-type {\n",
       "        vertical-align: middle;\n",
       "    }\n",
       "\n",
       "    .dataframe tbody tr th {\n",
       "        vertical-align: top;\n",
       "    }\n",
       "\n",
       "    .dataframe thead th {\n",
       "        text-align: right;\n",
       "    }\n",
       "</style>\n",
       "<table border=\"1\" class=\"dataframe\">\n",
       "  <thead>\n",
       "    <tr style=\"text-align: right;\">\n",
       "      <th></th>\n",
       "      <th>datetime</th>\n",
       "      <th>history</th>\n",
       "      <th>target_10</th>\n",
       "      <th>target_30</th>\n",
       "      <th>target_45</th>\n",
       "      <th>target_60</th>\n",
       "      <th>target_75</th>\n",
       "      <th>mean_5</th>\n",
       "      <th>mean_5-1</th>\n",
       "      <th>mean_5-2</th>\n",
       "      <th>...</th>\n",
       "      <th>mean_240-1</th>\n",
       "      <th>mean_240-2</th>\n",
       "      <th>mean_240diff1</th>\n",
       "      <th>mean_240diff2</th>\n",
       "      <th>mean_300</th>\n",
       "      <th>mean_300-1</th>\n",
       "      <th>mean_300-2</th>\n",
       "      <th>mean_300diff1</th>\n",
       "      <th>mean_300diff2</th>\n",
       "      <th>hour_is_75</th>\n",
       "    </tr>\n",
       "  </thead>\n",
       "  <tbody>\n",
       "    <tr>\n",
       "      <th>0</th>\n",
       "      <td>2018-03-15 00:00:00</td>\n",
       "      <td>[0, 0, 0, 0, 1, 2, 0, 1, 1, 4, 0, 1, 1, 1, 1, ...</td>\n",
       "      <td>5</td>\n",
       "      <td>18</td>\n",
       "      <td>28</td>\n",
       "      <td>32</td>\n",
       "      <td>42</td>\n",
       "      <td>2.4</td>\n",
       "      <td>0.8</td>\n",
       "      <td>1.8</td>\n",
       "      <td>...</td>\n",
       "      <td>0.945833</td>\n",
       "      <td>0.962500</td>\n",
       "      <td>0.329167</td>\n",
       "      <td>-0.016667</td>\n",
       "      <td>1.173333</td>\n",
       "      <td>1.013333</td>\n",
       "      <td>0.906667</td>\n",
       "      <td>0.160000</td>\n",
       "      <td>0.106667</td>\n",
       "      <td>0</td>\n",
       "    </tr>\n",
       "    <tr>\n",
       "      <th>1</th>\n",
       "      <td>2018-03-15 00:01:00</td>\n",
       "      <td>[0, 0, 0, 1, 2, 0, 1, 1, 4, 0, 1, 1, 1, 1, 3, ...</td>\n",
       "      <td>5</td>\n",
       "      <td>19</td>\n",
       "      <td>27</td>\n",
       "      <td>32</td>\n",
       "      <td>42</td>\n",
       "      <td>2.2</td>\n",
       "      <td>1.6</td>\n",
       "      <td>1.8</td>\n",
       "      <td>...</td>\n",
       "      <td>0.941667</td>\n",
       "      <td>0.966667</td>\n",
       "      <td>0.350000</td>\n",
       "      <td>-0.025000</td>\n",
       "      <td>1.186667</td>\n",
       "      <td>1.010000</td>\n",
       "      <td>0.910000</td>\n",
       "      <td>0.176667</td>\n",
       "      <td>0.100000</td>\n",
       "      <td>0</td>\n",
       "    </tr>\n",
       "    <tr>\n",
       "      <th>2</th>\n",
       "      <td>2018-03-15 00:02:00</td>\n",
       "      <td>[0, 0, 1, 2, 0, 1, 1, 4, 0, 1, 1, 1, 1, 3, 2, ...</td>\n",
       "      <td>7</td>\n",
       "      <td>20</td>\n",
       "      <td>27</td>\n",
       "      <td>33</td>\n",
       "      <td>43</td>\n",
       "      <td>2.0</td>\n",
       "      <td>2.2</td>\n",
       "      <td>1.4</td>\n",
       "      <td>...</td>\n",
       "      <td>0.937500</td>\n",
       "      <td>0.970833</td>\n",
       "      <td>0.358333</td>\n",
       "      <td>-0.033333</td>\n",
       "      <td>1.193333</td>\n",
       "      <td>1.006667</td>\n",
       "      <td>0.906667</td>\n",
       "      <td>0.186667</td>\n",
       "      <td>0.100000</td>\n",
       "      <td>0</td>\n",
       "    </tr>\n",
       "    <tr>\n",
       "      <th>3</th>\n",
       "      <td>2018-03-15 00:03:00</td>\n",
       "      <td>[0, 1, 2, 0, 1, 1, 4, 0, 1, 1, 1, 1, 3, 2, 3, ...</td>\n",
       "      <td>7</td>\n",
       "      <td>21</td>\n",
       "      <td>26</td>\n",
       "      <td>35</td>\n",
       "      <td>42</td>\n",
       "      <td>2.2</td>\n",
       "      <td>2.8</td>\n",
       "      <td>1.4</td>\n",
       "      <td>...</td>\n",
       "      <td>0.933333</td>\n",
       "      <td>0.975000</td>\n",
       "      <td>0.379167</td>\n",
       "      <td>-0.041667</td>\n",
       "      <td>1.203333</td>\n",
       "      <td>1.003333</td>\n",
       "      <td>0.910000</td>\n",
       "      <td>0.200000</td>\n",
       "      <td>0.093333</td>\n",
       "      <td>0</td>\n",
       "    </tr>\n",
       "    <tr>\n",
       "      <th>4</th>\n",
       "      <td>2018-03-15 00:04:00</td>\n",
       "      <td>[1, 2, 0, 1, 1, 4, 0, 1, 1, 1, 1, 3, 2, 3, 1, ...</td>\n",
       "      <td>7</td>\n",
       "      <td>20</td>\n",
       "      <td>26</td>\n",
       "      <td>35</td>\n",
       "      <td>42</td>\n",
       "      <td>2.4</td>\n",
       "      <td>2.8</td>\n",
       "      <td>0.8</td>\n",
       "      <td>...</td>\n",
       "      <td>0.937500</td>\n",
       "      <td>0.979167</td>\n",
       "      <td>0.375000</td>\n",
       "      <td>-0.041667</td>\n",
       "      <td>1.203333</td>\n",
       "      <td>1.003333</td>\n",
       "      <td>0.913333</td>\n",
       "      <td>0.200000</td>\n",
       "      <td>0.090000</td>\n",
       "      <td>0</td>\n",
       "    </tr>\n",
       "  </tbody>\n",
       "</table>\n",
       "<p>5 rows × 63 columns</p>\n",
       "</div>"
      ],
      "text/plain": [
       "             datetime                                            history  \\\n",
       "0 2018-03-15 00:00:00  [0, 0, 0, 0, 1, 2, 0, 1, 1, 4, 0, 1, 1, 1, 1, ...   \n",
       "1 2018-03-15 00:01:00  [0, 0, 0, 1, 2, 0, 1, 1, 4, 0, 1, 1, 1, 1, 3, ...   \n",
       "2 2018-03-15 00:02:00  [0, 0, 1, 2, 0, 1, 1, 4, 0, 1, 1, 1, 1, 3, 2, ...   \n",
       "3 2018-03-15 00:03:00  [0, 1, 2, 0, 1, 1, 4, 0, 1, 1, 1, 1, 3, 2, 3, ...   \n",
       "4 2018-03-15 00:04:00  [1, 2, 0, 1, 1, 4, 0, 1, 1, 1, 1, 3, 2, 3, 1, ...   \n",
       "\n",
       "   target_10  target_30  target_45  target_60  target_75  mean_5  mean_5-1  \\\n",
       "0          5         18         28         32         42     2.4       0.8   \n",
       "1          5         19         27         32         42     2.2       1.6   \n",
       "2          7         20         27         33         43     2.0       2.2   \n",
       "3          7         21         26         35         42     2.2       2.8   \n",
       "4          7         20         26         35         42     2.4       2.8   \n",
       "\n",
       "   mean_5-2  ...  mean_240-1  mean_240-2  mean_240diff1  mean_240diff2  \\\n",
       "0       1.8  ...    0.945833    0.962500       0.329167      -0.016667   \n",
       "1       1.8  ...    0.941667    0.966667       0.350000      -0.025000   \n",
       "2       1.4  ...    0.937500    0.970833       0.358333      -0.033333   \n",
       "3       1.4  ...    0.933333    0.975000       0.379167      -0.041667   \n",
       "4       0.8  ...    0.937500    0.979167       0.375000      -0.041667   \n",
       "\n",
       "   mean_300  mean_300-1  mean_300-2  mean_300diff1  mean_300diff2  hour_is_75  \n",
       "0  1.173333    1.013333    0.906667       0.160000       0.106667           0  \n",
       "1  1.186667    1.010000    0.910000       0.176667       0.100000           0  \n",
       "2  1.193333    1.006667    0.906667       0.186667       0.100000           0  \n",
       "3  1.203333    1.003333    0.910000       0.200000       0.093333           0  \n",
       "4  1.203333    1.003333    0.913333       0.200000       0.090000           0  \n",
       "\n",
       "[5 rows x 63 columns]"
      ]
     },
     "execution_count": 356,
     "metadata": {},
     "output_type": "execute_result"
    }
   ],
   "source": [
    "df.head()"
   ]
  },
  {
   "cell_type": "code",
   "execution_count": 102,
   "metadata": {},
   "outputs": [],
   "source": [
    "x_lstm = np.zeros((len(df), 120))"
   ]
  },
  {
   "cell_type": "code",
   "execution_count": 103,
   "metadata": {},
   "outputs": [],
   "source": [
    "for i, row in enumerate(df.history.values):\n",
    "    x_lstm[i,:] = row[-120:]"
   ]
  },
  {
   "cell_type": "code",
   "execution_count": 104,
   "metadata": {},
   "outputs": [],
   "source": [
    "# mean([-30 : ]) /- mean([-60 : -30])"
   ]
  },
  {
   "cell_type": "code",
   "execution_count": 105,
   "metadata": {},
   "outputs": [],
   "source": [
    "y = df.target_10.values\n",
    "# x = df[value_cols].values\n",
    "\n",
    "y = np.reshape(y, (len(y), 1))"
   ]
  },
  {
   "cell_type": "code",
   "execution_count": 106,
   "metadata": {},
   "outputs": [],
   "source": [
    "# y = y / 100"
   ]
  },
  {
   "cell_type": "code",
   "execution_count": 122,
   "metadata": {},
   "outputs": [],
   "source": [
    "import torch\n",
    "\n",
    "device = torch.device('cuda' if torch.cuda.is_available() else 'cpu')\n",
    "device = torch.device('cpu')\n",
    "batch_size = 64"
   ]
  },
  {
   "cell_type": "code",
   "execution_count": 123,
   "metadata": {},
   "outputs": [],
   "source": [
    "class Activate(torch.nn.Module):\n",
    "    def forward(self, x):\n",
    "        a = torch.exp(x[:, 0]).unsqueeze(1)\n",
    "        b = torch.nn.functional.softplus(x[:, 1]).unsqueeze(1)\n",
    "        \n",
    "        res = torch.cat([a,b], dim=1)\n",
    "        \n",
    "        return res"
   ]
  },
  {
   "cell_type": "code",
   "execution_count": 137,
   "metadata": {},
   "outputs": [],
   "source": [
    "# Here we define our model as a class\n",
    "class LSTM(torch.nn.Module):\n",
    "\n",
    "    def __init__(self, input_dim, hidden_dim, batch_size, output_dim=2, num_layers=2, device='cpu'):\n",
    "        super(LSTM, self).__init__()\n",
    "        self.device = device\n",
    "        self.input_dim = input_dim\n",
    "        self.hidden_dim = hidden_dim\n",
    "        self.batch_size = batch_size\n",
    "        self.num_layers = num_layers\n",
    "\n",
    "        self.lstm = torch.nn.LSTM(self.input_dim, self.hidden_dim, self.num_layers, batch_first=True)\n",
    "\n",
    "        self.linear = torch.nn.Linear(self.hidden_dim, output_dim)\n",
    "\n",
    "\n",
    "    def forward(self, input):\n",
    "        batch_size = input.shape[0]\n",
    "        \n",
    "        h0 = torch.zeros(self.num_layers, batch_size, self.hidden_dim).to(self.device)\n",
    "        c0 = torch.zeros(self.num_layers, batch_size, self.hidden_dim).to(self.device)\n",
    "\n",
    "        out = input.view(batch_size, -1, self.input_dim)\n",
    "        out, _ = self.lstm(out, (h0, c0))  \n",
    "        \n",
    "        out = out[:, -1, :]\n",
    "        \n",
    "        out = self.linear(out)\n",
    "        \n",
    "        a = torch.exp(out[:, 0]).unsqueeze(1)\n",
    "        b = torch.nn.functional.softplus(out[:, 1]).unsqueeze(1)\n",
    "        \n",
    "        out = torch.cat([a,b], dim=1)\n",
    "        \n",
    "        \n",
    "#         lstm_out, self.hidden = self.lstm(input.view(batch_size, -1, 1))\n",
    "#         y_pred = self.linear(lstm_out[-1].contiguous().view(batch_size, -1))\n",
    "        return out\n",
    "\n",
    "model = LSTM(1, 32, batch_size=batch_size, output_dim=2, num_layers=2, device=device).to(device)"
   ]
  },
  {
   "cell_type": "code",
   "execution_count": 138,
   "metadata": {},
   "outputs": [],
   "source": [
    "# model = torch.nn.Sequential(\n",
    "#     torch.nn.Linear(len(value_cols), 64),\n",
    "#     torch.nn.ReLU(),\n",
    "#     torch.nn.Linear(64,64),\n",
    "#     torch.nn.ReLU(),\n",
    "#     torch.nn.Linear(64, 2),\n",
    "#     Activate()\n",
    "# #     torch.nn.Relu()\n",
    "# ).to(device)\n",
    "\n",
    "\n",
    "\n",
    "optim = torch.optim.Adam(model.parameters(), lr=0.004)"
   ]
  },
  {
   "cell_type": "code",
   "execution_count": 139,
   "metadata": {},
   "outputs": [],
   "source": [
    "from sklearn.preprocessing import StandardScaler\n",
    "norm = StandardScaler()\n",
    "# norm.fit(x)\n",
    "# x = norm.transform(x)\n",
    "\n",
    "# norm.fit(y)\n",
    "# y = norm.transform(y)"
   ]
  },
  {
   "cell_type": "code",
   "execution_count": 140,
   "metadata": {},
   "outputs": [],
   "source": [
    "x = x_lstm"
   ]
  },
  {
   "cell_type": "code",
   "execution_count": 141,
   "metadata": {},
   "outputs": [],
   "source": [
    "from torch.utils.data import TensorDataset, DataLoader\n",
    "\n",
    "x = torch.FloatTensor(x).to(device)\n",
    "y = torch.FloatTensor(y).to(device)\n",
    "\n",
    "dataset = TensorDataset(x, y)\n",
    "dataloader = DataLoader(dataset, batch_size=batch_size, )\n",
    "\n",
    "\n",
    "# my_dataset = utils.TensorDataset(x, y) # create your datset\n",
    "# my_dataloader = utils.DataLoader(my_dataset, batch_size=batch_size)"
   ]
  },
  {
   "cell_type": "code",
   "execution_count": 142,
   "metadata": {},
   "outputs": [],
   "source": [
    "def weibull_loss(y_true, ab):\n",
    "    y_ = y_true[:, 0]\n",
    "    \n",
    "    a_ = ab[:, 0]\n",
    "    b_ = ab[:, 1]\n",
    "    \n",
    "    haz0 = ((y_ + 1e-35) / a_).pow(b_)\n",
    "    haz1 = ((y_ + 1) / a_).pow(b_)\n",
    "    \n",
    "    log_val = torch.log(torch.exp(haz1 - haz0) - 1.0)\n",
    "#     log_val = torch.clamp(log_val, 1e-10, 1e10)\n",
    "    \n",
    "    return -1 * (log_val - haz1).mean()"
   ]
  },
  {
   "cell_type": "code",
   "execution_count": 143,
   "metadata": {},
   "outputs": [],
   "source": [
    "def weibull_mean(a, b):\n",
    "    # Continuous mean. Theoretically at most 1 step below discretized mean \n",
    "    # E[T ] <= E[Td] + 1 true for positive distributions. \n",
    "    from scipy.special import gamma\n",
    "    return a*gamma(1.0+1.0/b)"
   ]
  },
  {
   "cell_type": "code",
   "execution_count": 144,
   "metadata": {},
   "outputs": [],
   "source": [
    "def weibull_mode(a, b):\n",
    "    # Continuous mode. \n",
    "    # TODO (mathematically) prove how close it is to discretized mode\n",
    "    mode = a*np.power((b-1.0)/b,1.0/b)\n",
    "    mode[b<=1.0]=0.0\n",
    "    return mode"
   ]
  },
  {
   "cell_type": "code",
   "execution_count": 145,
   "metadata": {},
   "outputs": [],
   "source": [
    "def sMAPE(y_true, y_predict, shift=0):\n",
    "    return 2 * np.mean(\n",
    "        np.abs(y_true - y_predict) /\n",
    "        (np.abs(y_true) + np.abs(y_predict) + shift))"
   ]
  },
  {
   "cell_type": "code",
   "execution_count": 146,
   "metadata": {},
   "outputs": [],
   "source": [
    "from tqdm import tqdm as tqdm"
   ]
  },
  {
   "cell_type": "code",
   "execution_count": 149,
   "metadata": {},
   "outputs": [],
   "source": [
    "def train_epoch(model, optim, dataloader, device):\n",
    "    loss_ar = []\n",
    "    for data_x, data_y in dataloader:\n",
    "        res = model(data_x)\n",
    "        loss = weibull_loss(data_y, res)\n",
    "        loss_ar.append(loss.item())\n",
    "\n",
    "        optim.zero_grad()\n",
    "        loss.backward()\n",
    "#         torch.nn.utils.clip_grad_norm_(model.parameters(), 1)\n",
    "        optim.step()\n",
    "    return np.mean(loss_ar)\n",
    "\n",
    "def test(model, dataloader, device):\n",
    "    pred = []\n",
    "    with torch.no_grad():\n",
    "        for data, _ in dataloader:\n",
    "            pred.extend(model(data).cpu().detach().numpy())\n",
    "    \n",
    "#     nums = [weibull_mean(x[0], x[1]) for x in pred]\n",
    "    nums = weibull_mode(pred[:,0], pred[:,1])\n",
    "    return sMAPE(y.squeeze(1).cpu().detach().numpy(), nums)"
   ]
  },
  {
   "cell_type": "code",
   "execution_count": null,
   "metadata": {},
   "outputs": [],
   "source": [
    "for epoch in range(100):\n",
    "#     loss = train_epoch(model, optim, dataloader, device)\n",
    "    smape = test(model, dataloader, device)\n",
    "    print(epoch, loss, smape)"
   ]
  },
  {
   "cell_type": "code",
   "execution_count": null,
   "metadata": {},
   "outputs": [],
   "source": []
  },
  {
   "cell_type": "code",
   "execution_count": null,
   "metadata": {},
   "outputs": [],
   "source": []
  },
  {
   "cell_type": "code",
   "execution_count": null,
   "metadata": {},
   "outputs": [],
   "source": []
  },
  {
   "cell_type": "code",
   "execution_count": null,
   "metadata": {},
   "outputs": [],
   "source": []
  },
  {
   "cell_type": "code",
   "execution_count": 376,
   "metadata": {},
   "outputs": [],
   "source": [
    "pred = None\n",
    "with torch.no_grad():\n",
    "    pred = model(x).cpu().detach().numpy()"
   ]
  },
  {
   "cell_type": "code",
   "execution_count": 378,
   "metadata": {},
   "outputs": [],
   "source": [
    "nums = [weibull_mean(x[0], x[1]) for x in pred]"
   ]
  },
  {
   "cell_type": "code",
   "execution_count": 379,
   "metadata": {},
   "outputs": [
    {
     "data": {
      "text/plain": [
       "([8.050626543655833,\n",
       "  7.7008617161123505,\n",
       "  7.6089758059659545,\n",
       "  6.672095845386341,\n",
       "  6.5842507629710445,\n",
       "  6.566309337091586,\n",
       "  7.297705630494468,\n",
       "  7.7684387061981255,\n",
       "  8.873279097635093,\n",
       "  9.078957406321004],\n",
       " tensor([[5.],\n",
       "         [5.],\n",
       "         [7.],\n",
       "         [7.],\n",
       "         [7.],\n",
       "         [7.],\n",
       "         [7.],\n",
       "         [6.],\n",
       "         [6.],\n",
       "         [5.]]))"
      ]
     },
     "execution_count": 379,
     "metadata": {},
     "output_type": "execute_result"
    }
   ],
   "source": [
    "nums[:10], y[:10]"
   ]
  },
  {
   "cell_type": "code",
   "execution_count": 487,
   "metadata": {},
   "outputs": [],
   "source": [
    "pred = model(x).cpu().detach().numpy()"
   ]
  },
  {
   "cell_type": "code",
   "execution_count": 488,
   "metadata": {},
   "outputs": [
    {
     "name": "stderr",
     "output_type": "stream",
     "text": [
      "/usr/local/lib/python3.5/dist-packages/ipykernel_launcher.py:4: RuntimeWarning: invalid value encountered in power\n",
      "  after removing the cwd from sys.path.\n"
     ]
    }
   ],
   "source": [
    "nums = weibull_mode(pred[:, 0], pred[:, 1])"
   ]
  },
  {
   "cell_type": "code",
   "execution_count": 491,
   "metadata": {},
   "outputs": [
    {
     "data": {
      "text/plain": [
       "9.692931"
      ]
     },
     "execution_count": 491,
     "metadata": {},
     "output_type": "execute_result"
    }
   ],
   "source": [
    "nums.mean()"
   ]
  },
  {
   "cell_type": "code",
   "execution_count": 490,
   "metadata": {},
   "outputs": [
    {
     "data": {
      "text/plain": [
       "11.6245165"
      ]
     },
     "execution_count": 490,
     "metadata": {},
     "output_type": "execute_result"
    }
   ],
   "source": [
    " y.detach().numpy().mean()"
   ]
  },
  {
   "cell_type": "code",
   "execution_count": 489,
   "metadata": {},
   "outputs": [
    {
     "data": {
      "text/plain": [
       "(array([6.0077686, 5.7603803, 5.843462 , 5.393385 , 5.3903713, 5.3190107,\n",
       "        5.6041636, 5.95658  , 6.55284  , 6.952653 ], dtype=float32),\n",
       " array([[5.],\n",
       "        [5.],\n",
       "        [7.],\n",
       "        [7.],\n",
       "        [7.],\n",
       "        [7.],\n",
       "        [7.],\n",
       "        [6.],\n",
       "        [6.],\n",
       "        [5.]], dtype=float32))"
      ]
     },
     "execution_count": 489,
     "metadata": {},
     "output_type": "execute_result"
    }
   ],
   "source": [
    "nums[:10], y.detach().numpy()[:10]"
   ]
  },
  {
   "cell_type": "code",
   "execution_count": 383,
   "metadata": {},
   "outputs": [
    {
     "data": {
      "text/plain": [
       "array([5., 5., 7., ..., 2., 1., 3.], dtype=float32)"
      ]
     },
     "execution_count": 383,
     "metadata": {},
     "output_type": "execute_result"
    }
   ],
   "source": [
    "y.squeeze(1).cpu().detach().numpy()"
   ]
  },
  {
   "cell_type": "code",
   "execution_count": 385,
   "metadata": {},
   "outputs": [
    {
     "data": {
      "text/plain": [
       "0.573123821491823"
      ]
     },
     "execution_count": 385,
     "metadata": {},
     "output_type": "execute_result"
    }
   ],
   "source": [
    "sMAPE(y.squeeze(1).cpu().detach().numpy(), nums)"
   ]
  },
  {
   "cell_type": "code",
   "execution_count": null,
   "metadata": {},
   "outputs": [],
   "source": []
  },
  {
   "cell_type": "code",
   "execution_count": null,
   "metadata": {},
   "outputs": [],
   "source": [
    "class RNN(nn.Module):\n",
    "    def __init__(self, input_size, hidden_size, num_layers, num_classes, batch_size=None, device='cpu', pv_num=None):\n",
    "        super(RNN, self).__init__()\n",
    "        self.hidden_size = hidden_size\n",
    "        self.input_size = input_size\n",
    "        self.num_layers = num_layers\n",
    "        self.batch_size = batch_size\n",
    "        self.lstm = nn.LSTM(input_size, hidden_size, num_layers, batch_first=True, bidirectional=True)\n",
    "        self.fc1 = nn.Linear(hidden_size*2*sequence_length, 32)\n",
    "        self.fc2 = nn.Linear(32, num_classes)\n",
    "\n",
    "    def forward(self, x):\n",
    "        batch_size = x.size(0)\n",
    "        out = x.view(batch_size, 1, x.size(1), x.size(2))\n",
    "\n",
    "        h0 = torch.zeros(2, batch_size, self.hidden_size)\n",
    "        c0 = torch.zeros(2, batch_size, self.hidden_size)\n",
    "        \n",
    "        h0 = h0.to(device)\n",
    "        c0 = c0.to(device)\n",
    "        \n",
    "        out = out.view(batch_size, -1, self.input_size)\n",
    "        out, _ = self.lstm(out, (h0, c0))  \n",
    "\n",
    "        out = out.contiguous().view(batch_size, -1)\n",
    "\n",
    "        out = torch.relu(self.fc1(out))\n",
    "        out = self.fc2(out)\n",
    "        out = torch.relu(out)\n",
    "        out = torch.softmax(out, 1)\n",
    "\n",
    "        return out"
   ]
  }
 ],
 "metadata": {
  "kernelspec": {
   "display_name": "Python 3",
   "language": "python",
   "name": "python3"
  },
  "language_info": {
   "codemirror_mode": {
    "name": "ipython",
    "version": 3
   },
   "file_extension": ".py",
   "mimetype": "text/x-python",
   "name": "python",
   "nbconvert_exporter": "python",
   "pygments_lexer": "ipython3",
   "version": "3.6.7"
  }
 },
 "nbformat": 4,
 "nbformat_minor": 2
}
