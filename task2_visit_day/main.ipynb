{
 "cells": [
  {
   "cell_type": "code",
   "execution_count": 1,
   "metadata": {},
   "outputs": [],
   "source": [
    "import os\n",
    "import numpy as np\n",
    "import scipy as sp\n",
    "from scipy import stats\n",
    "import pandas as pd\n",
    "from tqdm import tqdm_notebook as tqdm\n",
    "from gc import collect"
   ]
  },
  {
   "cell_type": "code",
   "execution_count": 2,
   "metadata": {},
   "outputs": [],
   "source": [
    "def write_prediction_to_file(prediction):\n",
    "    header = \"id,nextvisit\"\n",
    "    with open(\"submission.csv\", \"w\") as f:\n",
    "        print(header, file=f)\n",
    "        for idx, p in enumerate(prediction, 1):\n",
    "            print(f\"{idx}, {p}\", file=f)"
   ]
  },
  {
   "cell_type": "code",
   "execution_count": 3,
   "metadata": {},
   "outputs": [],
   "source": [
    "def visits2weekdays(visits):\n",
    "    return np.apply_along_axis(lambda x: (x - 1) % 7 + 1, 0, visits)\n",
    "\n",
    "def visits2history(visits):\n",
    "    history = np.zeros(PERIOD_LENGTH, dtype=int)\n",
    "    history[visits-1] = 1\n",
    "    return history"
   ]
  },
  {
   "cell_type": "code",
   "execution_count": 4,
   "metadata": {},
   "outputs": [
    {
     "data": {
      "text/plain": [
       "0"
      ]
     },
     "execution_count": 4,
     "metadata": {},
     "output_type": "execute_result"
    }
   ],
   "source": [
    "PERIOD_LENGTH = 1098\n",
    "\n",
    "with open('./train.csv', 'r') as f:\n",
    "    data = pd.read_csv(f)\n",
    "    data.visits = data.visits.apply(lambda x: np.fromstring(x, dtype=int, sep=\" \"))\n",
    "    \n",
    "train_data = np.array([v[:-1] for v in data.visits])\n",
    "test_data = np.array([v[-1] for v in data.visits])\n",
    "collect()"
   ]
  },
  {
   "cell_type": "code",
   "execution_count": 5,
   "metadata": {},
   "outputs": [
    {
     "data": {
      "text/plain": [
       "21"
      ]
     },
     "execution_count": 5,
     "metadata": {},
     "output_type": "execute_result"
    }
   ],
   "source": [
    "train_df = pd.DataFrame(columns=[\"visits\", \"weekdays\", \"history\"])\n",
    "train_df.visits = train_data\n",
    "train_df.weekdays = train_df.visits.apply(lambda v: visits2weekdays(v))\n",
    "train_df.history = train_df.visits.apply(lambda v: visits2history(v))\n",
    "collect()"
   ]
  },
  {
   "cell_type": "code",
   "execution_count": null,
   "metadata": {},
   "outputs": [],
   "source": [
    "train_df[\"mode\"] = train_df.weekdays.mode"
   ]
  },
  {
   "cell_type": "code",
   "execution_count": null,
   "metadata": {},
   "outputs": [],
   "source": [
    "stats.mode(train_df.weekdays[0])"
   ]
  },
  {
   "cell_type": "code",
   "execution_count": null,
   "metadata": {},
   "outputs": [],
   "source": [
    "DAYS_IN_WEEK = 7\n",
    "WEEK_IN_MONTH = 4\n",
    "DAYS_IN_MONTH = DAYS_IN_WEEK * WEEK_IN_MOTH\n",
    "MONTH_IN_YEAR = 12"
   ]
  }
 ],
 "metadata": {
  "kernelspec": {
   "display_name": "Python 3",
   "language": "python",
   "name": "python3"
  },
  "language_info": {
   "codemirror_mode": {
    "name": "ipython",
    "version": 3
   },
   "file_extension": ".py",
   "mimetype": "text/x-python",
   "name": "python",
   "nbconvert_exporter": "python",
   "pygments_lexer": "ipython3",
   "version": "3.6.7"
  }
 },
 "nbformat": 4,
 "nbformat_minor": 2
}
