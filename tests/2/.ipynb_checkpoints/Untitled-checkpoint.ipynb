{
 "cells": [
  {
   "cell_type": "code",
   "execution_count": 1,
   "metadata": {},
   "outputs": [],
   "source": [
    "import numpy as np\n",
    "from sklearn.model_selection import LeaveOneOut\n",
    "from sklearn.neighbors import KNeighborsClassifier\n",
    "from sklearn.metrics import accuracy_score"
   ]
  },
  {
   "cell_type": "code",
   "execution_count": 2,
   "metadata": {},
   "outputs": [],
   "source": [
    "x = np.array([0, 4, 4.5, 3, 7, 8]).reshape(-1,1)\n",
    "y = np.array([0, 0, 0,   1, 1, 1]).reshape(-1,1)"
   ]
  },
  {
   "cell_type": "code",
   "execution_count": 3,
   "metadata": {},
   "outputs": [
    {
     "data": {
      "text/plain": [
       "6"
      ]
     },
     "execution_count": 3,
     "metadata": {},
     "output_type": "execute_result"
    }
   ],
   "source": [
    "clf = KNeighborsClassifier(n_neighbors=1)\n",
    "loo = LeaveOneOut()\n",
    "loo.get_n_splits(x)"
   ]
  },
  {
   "cell_type": "code",
   "execution_count": 4,
   "metadata": {},
   "outputs": [
    {
     "name": "stdout",
     "output_type": "stream",
     "text": [
      "[TRAIN] [4.  4.5 3.  7.  8. ] [0 0 1 1 1]\n",
      "[TEST] [[0.]] [[0]]\n",
      "[SCORE] 0.0\n",
      "[TRAIN] [0.  4.5 3.  7.  8. ] [0 0 1 1 1]\n",
      "[TEST] [[4.]] [[0]]\n",
      "[SCORE] 1.0\n",
      "[TRAIN] [0. 4. 3. 7. 8.] [0 0 1 1 1]\n",
      "[TEST] [[4.5]] [[0]]\n",
      "[SCORE] 1.0\n",
      "[TRAIN] [0.  4.  4.5 7.  8. ] [0 0 0 1 1]\n",
      "[TEST] [[3.]] [[1]]\n",
      "[SCORE] 0.0\n",
      "[TRAIN] [0.  4.  4.5 3.  8. ] [0 0 0 1 1]\n",
      "[TEST] [[7.]] [[1]]\n",
      "[SCORE] 1.0\n",
      "[TRAIN] [0.  4.  4.5 3.  7. ] [0 0 0 1 1]\n",
      "[TEST] [[8.]] [[1]]\n",
      "[SCORE] 1.0\n"
     ]
    },
    {
     "data": {
      "text/plain": [
       "0.6666666666666666"
      ]
     },
     "execution_count": 4,
     "metadata": {},
     "output_type": "execute_result"
    }
   ],
   "source": [
    "scores = []\n",
    "for train_index, test_index in loo.split(x):\n",
    "    train_x = x[train_index]\n",
    "    train_y = y[train_index]\n",
    "    print(\"[TRAIN]\", train_x.ravel(), train_y.ravel())\n",
    "    \n",
    "    clf.fit(X=train_x, y=train_y.ravel())\n",
    "    \n",
    "    test_x = x[test_index]\n",
    "    test_y = y[test_index]\n",
    "    print(\"[TEST]\", test_x, test_y)\n",
    "    \n",
    "    score = accuracy_score(y_true=test_y, y_pred=clf.predict(test_x))\n",
    "    print(\"[SCORE]\", score)\n",
    "    scores.append(score)\n",
    "    \n",
    "np.mean(scores)"
   ]
  },
  {
   "cell_type": "code",
   "execution_count": 5,
   "metadata": {},
   "outputs": [
    {
     "name": "stdout",
     "output_type": "stream",
     "text": [
      "[TRAIN] [4.  4.5 3.  7.  8. ] [0 0 1 1 1]\n",
      "[TEST] [[0.]] [[0]]\n",
      "[SCORE] 1.0\n",
      "[TRAIN] [0.  4.5 3.  7.  8. ] [0 0 1 1 1]\n",
      "[TEST] [[4.]] [[0]]\n",
      "[SCORE] 1.0\n",
      "[TRAIN] [0. 4. 3. 7. 8.] [0 0 1 1 1]\n",
      "[TEST] [[4.5]] [[0]]\n",
      "[SCORE] 0.0\n",
      "[TRAIN] [0.  4.  4.5 7.  8. ] [0 0 0 1 1]\n",
      "[TEST] [[3.]] [[1]]\n",
      "[SCORE] 0.0\n",
      "[TRAIN] [0.  4.  4.5 3.  8. ] [0 0 0 1 1]\n",
      "[TEST] [[7.]] [[1]]\n",
      "[SCORE] 1.0\n",
      "[TRAIN] [0.  4.  4.5 3.  7. ] [0 0 0 1 1]\n",
      "[TEST] [[8.]] [[1]]\n",
      "[SCORE] 1.0\n"
     ]
    },
    {
     "data": {
      "text/plain": [
       "0.6666666666666666"
      ]
     },
     "execution_count": 5,
     "metadata": {},
     "output_type": "execute_result"
    }
   ],
   "source": [
    "from sklearn.neighbors import NearestCentroid\n",
    "\n",
    "clf = NearestCentroid()\n",
    "scores = []\n",
    "for train_index, test_index in loo.split(x):\n",
    "    train_x = x[train_index]\n",
    "    train_y = y[train_index]\n",
    "    print(\"[TRAIN]\", train_x.ravel(), train_y.ravel())\n",
    "    \n",
    "    clf.fit(X=train_x, y=train_y.ravel())\n",
    "    \n",
    "    test_x = x[test_index]\n",
    "    test_y = y[test_index]\n",
    "    print(\"[TEST]\", test_x, test_y)\n",
    "    \n",
    "    score = accuracy_score(y_true=test_y, y_pred=clf.predict(test_x))\n",
    "    print(\"[SCORE]\", score)\n",
    "    scores.append(score)\n",
    "    \n",
    "np.mean(scores)"
   ]
  },
  {
   "cell_type": "code",
   "execution_count": 6,
   "metadata": {},
   "outputs": [
    {
     "name": "stdout",
     "output_type": "stream",
     "text": [
      "1.4142135623730951\n",
      "1\n",
      "1.4142135623730951\n"
     ]
    }
   ],
   "source": [
    "from scipy.spatial.distance import euclidean, chebyshev, minkowski\n",
    "\n",
    "u = np.array([1,1])\n",
    "v = np.array([2,2])\n",
    "\n",
    "print(euclidean(u,v))\n",
    "print(chebyshev(u,v))\n",
    "print(minkowski(u,v))"
   ]
  },
  {
   "cell_type": "code",
   "execution_count": 64,
   "metadata": {},
   "outputs": [
    {
     "name": "stdout",
     "output_type": "stream",
     "text": [
      "4.0\n"
     ]
    }
   ],
   "source": [
    "from scipy.spatial.distance import euclidean\n",
    "from fastdtw import fastdtw\n",
    "\n",
    "u = np.array([1,1,2,2,3,3])\n",
    "v = np.array([1,4])\n",
    "\n",
    "d, path = fastdtw(u, v, dist=euclidean)\n",
    "print(d)"
   ]
  },
  {
   "cell_type": "code",
   "execution_count": 67,
   "metadata": {},
   "outputs": [
    {
     "name": "stderr",
     "output_type": "stream",
     "text": [
      "/usr/local/lib/python3.6/dist-packages/sklearn/linear_model/stochastic_gradient.py:128: FutureWarning: max_iter and tol parameters have been added in <class 'sklearn.linear_model.perceptron.Perceptron'> in 0.19. If both are left unset, they default to max_iter=5 and tol=None. If tol is not None, max_iter defaults to max_iter=1000. From 0.21, default max_iter will be 1000, and default tol will be 1e-3.\n",
      "  \"and default tol will be 1e-3.\" % type(self), FutureWarning)\n"
     ]
    },
    {
     "data": {
      "text/plain": [
       "Perceptron(alpha=0.0001, class_weight=None, eta0=1.0, fit_intercept=True,\n",
       "      max_iter=None, n_iter=None, n_jobs=1, penalty=None, random_state=0,\n",
       "      shuffle=True, tol=None, verbose=0, warm_start=False)"
      ]
     },
     "execution_count": 67,
     "metadata": {},
     "output_type": "execute_result"
    }
   ],
   "source": [
    "from sklearn.linear_model import Perceptron\n",
    "\n",
    "x = np.array([[1,1],[3,-1],[1,-1]])\n",
    "y = np.array([1,1,-1])\n",
    "\n",
    "clf = Perceptron()\n",
    "clf.fit(x,y)"
   ]
  },
  {
   "cell_type": "code",
   "execution_count": 68,
   "metadata": {},
   "outputs": [
    {
     "data": {
      "text/plain": [
       "array([[1., 1.]])"
      ]
     },
     "execution_count": 68,
     "metadata": {},
     "output_type": "execute_result"
    }
   ],
   "source": [
    "clf.coef_"
   ]
  },
  {
   "cell_type": "code",
   "execution_count": null,
   "metadata": {},
   "outputs": [],
   "source": []
  },
  {
   "cell_type": "code",
   "execution_count": null,
   "metadata": {},
   "outputs": [],
   "source": []
  },
  {
   "cell_type": "code",
   "execution_count": null,
   "metadata": {},
   "outputs": [],
   "source": []
  },
  {
   "cell_type": "code",
   "execution_count": null,
   "metadata": {},
   "outputs": [],
   "source": []
  },
  {
   "cell_type": "code",
   "execution_count": null,
   "metadata": {},
   "outputs": [],
   "source": []
  },
  {
   "cell_type": "code",
   "execution_count": null,
   "metadata": {},
   "outputs": [],
   "source": []
  },
  {
   "cell_type": "code",
   "execution_count": null,
   "metadata": {},
   "outputs": [],
   "source": []
  },
  {
   "cell_type": "code",
   "execution_count": null,
   "metadata": {},
   "outputs": [],
   "source": []
  }
 ],
 "metadata": {
  "kernelspec": {
   "display_name": "Python 3",
   "language": "python",
   "name": "python3"
  },
  "language_info": {
   "codemirror_mode": {
    "name": "ipython",
    "version": 3
   },
   "file_extension": ".py",
   "mimetype": "text/x-python",
   "name": "python",
   "nbconvert_exporter": "python",
   "pygments_lexer": "ipython3",
   "version": "3.6.7"
  }
 },
 "nbformat": 4,
 "nbformat_minor": 2
}
